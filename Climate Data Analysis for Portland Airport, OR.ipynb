{
 "cells": [
  {
   "cell_type": "markdown",
   "id": "97e177d9",
   "metadata": {},
   "source": [
    "# Climate Data Analysis for Portland, OR "
   ]
  },
  {
   "cell_type": "markdown",
   "id": "a1bcafae",
   "metadata": {},
   "source": [
    "## Introduction"
   ]
  },
  {
   "cell_type": "markdown",
   "id": "f5f92cf0",
   "metadata": {},
   "source": [
    "This report provides a comprehensive analysis of historical climate data collected from Portland International Airport in Portland, OR. Utilizing data from sources such as NOAA and USGS, the study examines key weather parameters, including air temperature, precipitation, and groundwater levels (GWL), spanning a time period from 2004 to 2024. The goal of this analysis is to identify patterns and trends in the data, specifically related to air temperature fluctuations, precipitation cycles, and seasonal variations in groundwater levels. By visualizing this data through charts and time series plots, this report aims to offer insights into Portland's climate behavior, the frequency of extreme weather events, and the effects of climate change over the last two decades."
   ]
  },
  {
   "cell_type": "markdown",
   "id": "a772d7fc",
   "metadata": {},
   "source": [
    "## Set up "
   ]
  },
  {
   "cell_type": "code",
   "execution_count": 1,
   "id": "fb9fc064",
   "metadata": {},
   "outputs": [
    {
     "name": "stdout",
     "output_type": "stream",
     "text": [
      "Requirement already satisfied: numpy==1.23.4 in /Users/lauriezeng/opt/anaconda3/lib/python3.9/site-packages (1.23.4)\n",
      "\u001b[33mWARNING: There was an error checking the latest version of pip.\u001b[0m\u001b[33m\n",
      "\u001b[0mNote: you may need to restart the kernel to use updated packages.\n"
     ]
    }
   ],
   "source": [
    "pip install numpy==1.23.4  "
   ]
  },
  {
   "cell_type": "code",
   "execution_count": 2,
   "id": "c511663c",
   "metadata": {},
   "outputs": [
    {
     "name": "stdout",
     "output_type": "stream",
     "text": [
      "Requirement already satisfied: pandoc in /Users/lauriezeng/opt/anaconda3/lib/python3.9/site-packages (2.4)\n",
      "Requirement already satisfied: plumbum in /Users/lauriezeng/opt/anaconda3/lib/python3.9/site-packages (from pandoc) (1.8.3)\n",
      "Requirement already satisfied: ply in /Users/lauriezeng/opt/anaconda3/lib/python3.9/site-packages (from pandoc) (3.11)\n",
      "\u001b[33mWARNING: There was an error checking the latest version of pip.\u001b[0m\u001b[33m\n",
      "\u001b[0m"
     ]
    }
   ],
   "source": [
    "!pip install pandoc"
   ]
  },
  {
   "cell_type": "code",
   "execution_count": 3,
   "id": "b0eae5d9",
   "metadata": {},
   "outputs": [
    {
     "name": "stderr",
     "output_type": "stream",
     "text": [
      "/Users/lauriezeng/opt/anaconda3/lib/python3.9/site-packages/pandas/core/computation/expressions.py:21: UserWarning: Pandas requires version '2.8.4' or newer of 'numexpr' (version '2.8.1' currently installed).\n",
      "  from pandas.core.computation.check import NUMEXPR_INSTALLED\n",
      "/Users/lauriezeng/opt/anaconda3/lib/python3.9/site-packages/pandas/core/arrays/masked.py:60: UserWarning: Pandas requires version '1.3.6' or newer of 'bottleneck' (version '1.3.4' currently installed).\n",
      "  from pandas.core import (\n",
      "/Users/lauriezeng/opt/anaconda3/lib/python3.9/site-packages/scipy/__init__.py:146: UserWarning: A NumPy version >=1.16.5 and <1.23.0 is required for this version of SciPy (detected version 1.23.4\n",
      "  warnings.warn(f\"A NumPy version >={np_minversion} and <{np_maxversion}\"\n"
     ]
    }
   ],
   "source": [
    "\n",
    "# import the libraries\n",
    "import pandas as pd\n",
    "import numpy as np\n",
    "import matplotlib.pyplot as plt\n",
    "import seaborn as sns\n",
    "import pandoc as pandoc"
   ]
  },
  {
   "cell_type": "markdown",
   "id": "499f1e1d",
   "metadata": {},
   "source": [
    "## Analyzing Air Temperature"
   ]
  },
  {
   "cell_type": "markdown",
   "id": "4d53f8c3",
   "metadata": {},
   "source": [
    "### Data Preperation"
   ]
  },
  {
   "cell_type": "markdown",
   "id": "5715b5b7",
   "metadata": {},
   "source": [
    "I am using the data from the Portland Airport weather station, beacasue it has a 98% rate of data coverage."
   ]
  },
  {
   "cell_type": "code",
   "execution_count": 4,
   "id": "7d9dbd89",
   "metadata": {},
   "outputs": [
    {
     "name": "stdout",
     "output_type": "stream",
     "text": [
      "       STATION                                   NAME        DATE  PRCP  SNOW  \\\n",
      "0  USW00024229  PORTLAND INTERNATIONAL AIRPORT, OR US  2004-01-01  0.25   1.7   \n",
      "1  USW00024229  PORTLAND INTERNATIONAL AIRPORT, OR US  2004-01-02  0.21   1.0   \n",
      "2  USW00024229  PORTLAND INTERNATIONAL AIRPORT, OR US  2004-01-03  0.02   0.0   \n",
      "3  USW00024229  PORTLAND INTERNATIONAL AIRPORT, OR US  2004-01-04  0.00   0.0   \n",
      "4  USW00024229  PORTLAND INTERNATIONAL AIRPORT, OR US  2004-01-05  0.00   0.0   \n",
      "\n",
      "   SNWD  TAVG  TMAX  TMIN  \n",
      "0   2.0  35.0    37    32  \n",
      "1   2.0  38.0    41    35  \n",
      "2   1.0  39.0    41    36  \n",
      "3   0.0  31.0    37    24  \n",
      "4   0.0  22.0    24    20  \n"
     ]
    }
   ],
   "source": [
    "#data url: https://www.ncdc.noaa.gov/cdo-web/search\n",
    "# get data from NOAA\n",
    "df_portland=pd.read_csv('/Users/lauriezeng/Downloads/3799381.csv')\n",
    "print(df_portland.head())\n"
   ]
  },
  {
   "cell_type": "code",
   "execution_count": 5,
   "id": "db3382a2",
   "metadata": {},
   "outputs": [
    {
     "data": {
      "text/plain": [
       "DATE    datetime64[ns]\n",
       "TMAX             int64\n",
       "TMIN             int64\n",
       "dtype: object"
      ]
     },
     "execution_count": 5,
     "metadata": {},
     "output_type": "execute_result"
    }
   ],
   "source": [
    "#convert the data column to datetime format\n",
    "#filter the columns for air temprature analysis\n",
    "df_portland['DATE']=pd.to_datetime(df_portland['DATE'])\n",
    "\n",
    "df_portland_air=df_portland[['DATE','TMAX','TMIN']]\n",
    "\n",
    "\n",
    "#check if types of datatype are correct\n",
    "df_portland_air.dtypes"
   ]
  },
  {
   "cell_type": "code",
   "execution_count": 6,
   "id": "108f2b99",
   "metadata": {},
   "outputs": [
    {
     "data": {
      "text/plain": [
       "DATE    0\n",
       "TMAX    0\n",
       "TMIN    0\n",
       "dtype: int64"
      ]
     },
     "execution_count": 6,
     "metadata": {},
     "output_type": "execute_result"
    }
   ],
   "source": [
    "#check for the missing values\n",
    "df_portland_air.isnull().sum()\n"
   ]
  },
  {
   "cell_type": "code",
   "execution_count": 7,
   "id": "d16d84a7",
   "metadata": {},
   "outputs": [
    {
     "name": "stderr",
     "output_type": "stream",
     "text": [
      "/var/folders/qr/19v993z57q535jfw7xggwbc00000gn/T/ipykernel_50918/2882262899.py:2: SettingWithCopyWarning: \n",
      "A value is trying to be set on a copy of a slice from a DataFrame\n",
      "\n",
      "See the caveats in the documentation: https://pandas.pydata.org/pandas-docs/stable/user_guide/indexing.html#returning-a-view-versus-a-copy\n",
      "  df_portland_air.rename(columns={\n"
     ]
    },
    {
     "data": {
      "text/html": [
       "<div>\n",
       "<style scoped>\n",
       "    .dataframe tbody tr th:only-of-type {\n",
       "        vertical-align: middle;\n",
       "    }\n",
       "\n",
       "    .dataframe tbody tr th {\n",
       "        vertical-align: top;\n",
       "    }\n",
       "\n",
       "    .dataframe thead th {\n",
       "        text-align: right;\n",
       "    }\n",
       "</style>\n",
       "<table border=\"1\" class=\"dataframe\">\n",
       "  <thead>\n",
       "    <tr style=\"text-align: right;\">\n",
       "      <th></th>\n",
       "      <th>date</th>\n",
       "      <th>max_temp</th>\n",
       "      <th>min_temp</th>\n",
       "    </tr>\n",
       "  </thead>\n",
       "  <tbody>\n",
       "    <tr>\n",
       "      <th>0</th>\n",
       "      <td>2004-01-01</td>\n",
       "      <td>37</td>\n",
       "      <td>32</td>\n",
       "    </tr>\n",
       "    <tr>\n",
       "      <th>1</th>\n",
       "      <td>2004-01-02</td>\n",
       "      <td>41</td>\n",
       "      <td>35</td>\n",
       "    </tr>\n",
       "    <tr>\n",
       "      <th>2</th>\n",
       "      <td>2004-01-03</td>\n",
       "      <td>41</td>\n",
       "      <td>36</td>\n",
       "    </tr>\n",
       "    <tr>\n",
       "      <th>3</th>\n",
       "      <td>2004-01-04</td>\n",
       "      <td>37</td>\n",
       "      <td>24</td>\n",
       "    </tr>\n",
       "    <tr>\n",
       "      <th>4</th>\n",
       "      <td>2004-01-05</td>\n",
       "      <td>24</td>\n",
       "      <td>20</td>\n",
       "    </tr>\n",
       "  </tbody>\n",
       "</table>\n",
       "</div>"
      ],
      "text/plain": [
       "        date  max_temp  min_temp\n",
       "0 2004-01-01        37        32\n",
       "1 2004-01-02        41        35\n",
       "2 2004-01-03        41        36\n",
       "3 2004-01-04        37        24\n",
       "4 2004-01-05        24        20"
      ]
     },
     "execution_count": 7,
     "metadata": {},
     "output_type": "execute_result"
    }
   ],
   "source": [
    "#rename the columns\n",
    "df_portland_air.rename(columns={\n",
    "    'DATE':'date',\n",
    "    'TMAX':'max_temp',\n",
    "    'TMIN':'min_temp'\n",
    "},inplace=True\n",
    "\n",
    ")\n",
    "\n",
    "df_portland_air.head()"
   ]
  },
  {
   "cell_type": "markdown",
   "id": "cda6f47f",
   "metadata": {},
   "source": [
    "### Analyzing Air Tempreture Data"
   ]
  },
  {
   "cell_type": "code",
   "execution_count": 8,
   "id": "c68d6d5c",
   "metadata": {},
   "outputs": [
    {
     "name": "stdout",
     "output_type": "stream",
     "text": [
      "Min date:  2004-01-01 00:00:00\n",
      "Max date:  2024-09-08 00:00:00\n",
      "Number of days:  7557\n"
     ]
    }
   ],
   "source": [
    "# min and max date in tghe dataset \n",
    "print('Min date: ',df_portland_air['date'].min())\n",
    "print('Max date: ',df_portland_air['date'].max())\n",
    "\n",
    "print(\"Number of days: \",df_portland.shape[0])"
   ]
  },
  {
   "cell_type": "code",
   "execution_count": 9,
   "id": "9c0316ec",
   "metadata": {},
   "outputs": [
    {
     "data": {
      "text/html": [
       "<div>\n",
       "<style scoped>\n",
       "    .dataframe tbody tr th:only-of-type {\n",
       "        vertical-align: middle;\n",
       "    }\n",
       "\n",
       "    .dataframe tbody tr th {\n",
       "        vertical-align: top;\n",
       "    }\n",
       "\n",
       "    .dataframe thead th {\n",
       "        text-align: right;\n",
       "    }\n",
       "</style>\n",
       "<table border=\"1\" class=\"dataframe\">\n",
       "  <thead>\n",
       "    <tr style=\"text-align: right;\">\n",
       "      <th></th>\n",
       "      <th>min_temp</th>\n",
       "      <th>max_temp</th>\n",
       "    </tr>\n",
       "  </thead>\n",
       "  <tbody>\n",
       "    <tr>\n",
       "      <th>count</th>\n",
       "      <td>7557.000000</td>\n",
       "      <td>7557.000000</td>\n",
       "    </tr>\n",
       "    <tr>\n",
       "      <th>mean</th>\n",
       "      <td>46.683472</td>\n",
       "      <td>63.894006</td>\n",
       "    </tr>\n",
       "    <tr>\n",
       "      <th>std</th>\n",
       "      <td>10.184006</td>\n",
       "      <td>15.057865</td>\n",
       "    </tr>\n",
       "    <tr>\n",
       "      <th>min</th>\n",
       "      <td>11.000000</td>\n",
       "      <td>21.000000</td>\n",
       "    </tr>\n",
       "    <tr>\n",
       "      <th>25%</th>\n",
       "      <td>39.000000</td>\n",
       "      <td>52.000000</td>\n",
       "    </tr>\n",
       "    <tr>\n",
       "      <th>50%</th>\n",
       "      <td>47.000000</td>\n",
       "      <td>62.000000</td>\n",
       "    </tr>\n",
       "    <tr>\n",
       "      <th>75%</th>\n",
       "      <td>55.000000</td>\n",
       "      <td>75.000000</td>\n",
       "    </tr>\n",
       "    <tr>\n",
       "      <th>max</th>\n",
       "      <td>75.000000</td>\n",
       "      <td>116.000000</td>\n",
       "    </tr>\n",
       "  </tbody>\n",
       "</table>\n",
       "</div>"
      ],
      "text/plain": [
       "          min_temp     max_temp\n",
       "count  7557.000000  7557.000000\n",
       "mean     46.683472    63.894006\n",
       "std      10.184006    15.057865\n",
       "min      11.000000    21.000000\n",
       "25%      39.000000    52.000000\n",
       "50%      47.000000    62.000000\n",
       "75%      55.000000    75.000000\n",
       "max      75.000000   116.000000"
      ]
     },
     "execution_count": 9,
     "metadata": {},
     "output_type": "execute_result"
    }
   ],
   "source": [
    "#summary of the data\n",
    "df_portland_air[['min_temp','max_temp']].describe()"
   ]
  },
  {
   "cell_type": "code",
   "execution_count": 10,
   "id": "1bc080d5",
   "metadata": {},
   "outputs": [
    {
     "name": "stdout",
     "output_type": "stream",
     "text": [
      "The hottest day over the past 20 years was: 2021-06-28\n",
      "The coldest day over the past 20 years was: 2017-01-13\n"
     ]
    }
   ],
   "source": [
    "max_temp = df_portland_air['max_temp'].max()\n",
    "hottest_days = df_portland_air[df_portland_air['max_temp'] == max_temp]['date']\n",
    "hottest_day_string = hottest_days.dt.strftime('%Y-%m-%d').to_string(index=False)\n",
    "\n",
    "min_temp = df_portland_air['min_temp'].min()\n",
    "coldest_days = df_portland_air[df_portland_air['min_temp'] == min_temp]['date']\n",
    "coldest_day_string = coldest_days.dt.strftime('%Y-%m-%d').to_string(index=False)\n",
    "\n",
    "\n",
    "print(\"The hottest day over the past 20 years was:\", hottest_day_string.strip())\n",
    "print(\"The coldest day over the past 20 years was:\", coldest_day_string.strip())\n"
   ]
  },
  {
   "cell_type": "code",
   "execution_count": 11,
   "id": "b2eff52d",
   "metadata": {},
   "outputs": [
    {
     "data": {
      "image/png": "[encoded data removed]",
      "text/plain": [
       "<Figure size 1152x1008 with 2 Axes>"
      ]
     },
     "metadata": {
      "needs_background": "light"
     },
     "output_type": "display_data"
    }
   ],
   "source": [
    "#plotting time series of min and max temp\n",
    "\n",
    "#create a 1*2 grid of subplots\n",
    "fig,ax=plt.subplots(2,1,figsize=(16,14))\n",
    "\n",
    "#adjust the space between the subplots\n",
    "plt.subplots_adjust(hspace=0.5)\n",
    "\n",
    "#subplot for min temp\n",
    "df_portland_air.plot(x='date',y='min_temp',ax=ax[0],color='xkcd:sky blue')\n",
    "ax[0].set_title('Min Temp')\n",
    "ax[0].set_ylabel('Temperature')\n",
    "\n",
    "\n",
    "#subplot for max temp\n",
    "df_portland_air.plot(x='date',y='max_temp',ax=ax[1],color='xkcd:salmon')\n",
    "ax[1].set_title('Max Temp')\n",
    "ax[1].set_ylabel('Temperature')\n",
    "\n",
    "for i in range (2):\n",
    "    ax[i].legend(loc='upper right')\n"
   ]
  },
  {
   "cell_type": "code",
   "execution_count": 12,
   "id": "0e6b25bd",
   "metadata": {},
   "outputs": [
    {
     "data": {
      "image/png": "[encoded data removed]",
      "text/plain": [
       "<Figure size 864x720 with 2 Axes>"
      ]
     },
     "metadata": {
      "needs_background": "light"
     },
     "output_type": "display_data"
    }
   ],
   "source": [
    "# plot the distribution \n",
    "\n",
    "fig,ax=plt.subplots(2,1,figsize=(12,10))\n",
    "plt.subplots_adjust(hspace=0.5)\n",
    "\n",
    "\n",
    "#plot for min_temp\n",
    "df_portland_air.hist(column=\"min_temp\", ax=ax[0], facecolor=\"xkcd:sky blue\", edgecolor=\"white\")\n",
    "                                                      \n",
    "# Add titles and labels \n",
    "ax[0].set_title(\"Distribution of Min Daily Temperatures\", fontsize=20)\n",
    "ax[0].set_xlabel(\"Min Temperature\", fontsize=16)\n",
    "ax[0].set_ylabel(\"Frequency\", fontsize=16)\n",
    "\n",
    "ax[0].grid(alpha=0.25)\n",
    "ax[0].set_axisbelow(True)\n",
    "\n",
    "#=======================================================================\n",
    "#plot for max_temp\n",
    "df_portland_air.hist(column=\"max_temp\", ax=ax[1], facecolor=\"xkcd:salmon\", edgecolor=\"white\")\n",
    "\n",
    "ax[1].set_title(\"Distribution of Max Daily Temperatures\", fontsize=20)\n",
    "ax[1].set_xlabel(\"Max Temperature\", fontsize=16)\n",
    "ax[1].set_ylabel(\"Frequency\", fontsize=16)\n",
    "\n",
    "ax[1].grid(alpha=0.25)\n",
    "ax[1].set_axisbelow(True)"
   ]
  },
  {
   "cell_type": "markdown",
   "id": "ee43b9e2",
   "metadata": {},
   "source": [
    "#### Finidings"
   ]
  },
  {
   "cell_type": "markdown",
   "id": "bf6a1f8d",
   "metadata": {},
   "source": [
    "- There is a clear seasonal pattern, with temperature lows dipping each year during the winter months and rising in the summer. This cyclical pattern is consistent throughout the years.\n",
    "- The minimum  and maximum temperatures seem relatively consistent when comparing year-to-year extremes, although there are variations within the seasons. There are years with higher peaks and some with lower, but these do not form a clear pattern of change.\n",
    "\n",
    "-  The distribution of minimum temperature shows a slight left skew, indicating more rare occurrences of extremely low minimum temperatures compared to high minimum temperatures.\n",
    "\n",
    "- The distribution of max temperature is right-skewed, meaning there are more instances of higher maximum temperatures exceeding the common range (80°F-90°F) compared to lower extremes."
   ]
  },
  {
   "cell_type": "markdown",
   "id": "ae5c3e38",
   "metadata": {},
   "source": [
    "### Analyzing the Number hot days"
   ]
  },
  {
   "cell_type": "code",
   "execution_count": 13,
   "id": "831e9339",
   "metadata": {},
   "outputs": [],
   "source": [
    "# Excessive Heat Warning\n",
    "\n",
    "##Western Oregon (including Portland and the Willamette Valley): Heat advisories might be issued when daytime temperatures are forecasted to exceed 90-95°F, especially if these conditions are expected to persist for multiple days."
   ]
  },
  {
   "cell_type": "code",
   "execution_count": 14,
   "id": "bec7f4c6",
   "metadata": {},
   "outputs": [
    {
     "name": "stderr",
     "output_type": "stream",
     "text": [
      "/var/folders/qr/19v993z57q535jfw7xggwbc00000gn/T/ipykernel_50918/3468907399.py:3: SettingWithCopyWarning: \n",
      "A value is trying to be set on a copy of a slice from a DataFrame.\n",
      "Try using .loc[row_indexer,col_indexer] = value instead\n",
      "\n",
      "See the caveats in the documentation: https://pandas.pydata.org/pandas-docs/stable/user_guide/indexing.html#returning-a-view-versus-a-copy\n",
      "  df['Year'] = df['date'].dt.year\n"
     ]
    },
    {
     "data": {
      "text/html": [
       "<div>\n",
       "<style scoped>\n",
       "    .dataframe tbody tr th:only-of-type {\n",
       "        vertical-align: middle;\n",
       "    }\n",
       "\n",
       "    .dataframe tbody tr th {\n",
       "        vertical-align: top;\n",
       "    }\n",
       "\n",
       "    .dataframe thead th {\n",
       "        text-align: right;\n",
       "    }\n",
       "</style>\n",
       "<table border=\"1\" class=\"dataframe\">\n",
       "  <thead>\n",
       "    <tr style=\"text-align: right;\">\n",
       "      <th></th>\n",
       "      <th>Year</th>\n",
       "      <th>Count of Hot Days</th>\n",
       "    </tr>\n",
       "  </thead>\n",
       "  <tbody>\n",
       "    <tr>\n",
       "      <th>0</th>\n",
       "      <td>2004</td>\n",
       "      <td>9</td>\n",
       "    </tr>\n",
       "    <tr>\n",
       "      <th>1</th>\n",
       "      <td>2005</td>\n",
       "      <td>14</td>\n",
       "    </tr>\n",
       "    <tr>\n",
       "      <th>2</th>\n",
       "      <td>2006</td>\n",
       "      <td>17</td>\n",
       "    </tr>\n",
       "    <tr>\n",
       "      <th>3</th>\n",
       "      <td>2007</td>\n",
       "      <td>4</td>\n",
       "    </tr>\n",
       "    <tr>\n",
       "      <th>4</th>\n",
       "      <td>2008</td>\n",
       "      <td>12</td>\n",
       "    </tr>\n",
       "    <tr>\n",
       "      <th>5</th>\n",
       "      <td>2009</td>\n",
       "      <td>20</td>\n",
       "    </tr>\n",
       "    <tr>\n",
       "      <th>6</th>\n",
       "      <td>2010</td>\n",
       "      <td>11</td>\n",
       "    </tr>\n",
       "    <tr>\n",
       "      <th>7</th>\n",
       "      <td>2011</td>\n",
       "      <td>6</td>\n",
       "    </tr>\n",
       "    <tr>\n",
       "      <th>8</th>\n",
       "      <td>2012</td>\n",
       "      <td>8</td>\n",
       "    </tr>\n",
       "    <tr>\n",
       "      <th>9</th>\n",
       "      <td>2013</td>\n",
       "      <td>7</td>\n",
       "    </tr>\n",
       "    <tr>\n",
       "      <th>10</th>\n",
       "      <td>2014</td>\n",
       "      <td>15</td>\n",
       "    </tr>\n",
       "    <tr>\n",
       "      <th>11</th>\n",
       "      <td>2015</td>\n",
       "      <td>24</td>\n",
       "    </tr>\n",
       "    <tr>\n",
       "      <th>12</th>\n",
       "      <td>2016</td>\n",
       "      <td>13</td>\n",
       "    </tr>\n",
       "    <tr>\n",
       "      <th>13</th>\n",
       "      <td>2017</td>\n",
       "      <td>22</td>\n",
       "    </tr>\n",
       "    <tr>\n",
       "      <th>14</th>\n",
       "      <td>2018</td>\n",
       "      <td>29</td>\n",
       "    </tr>\n",
       "    <tr>\n",
       "      <th>15</th>\n",
       "      <td>2019</td>\n",
       "      <td>9</td>\n",
       "    </tr>\n",
       "    <tr>\n",
       "      <th>16</th>\n",
       "      <td>2020</td>\n",
       "      <td>13</td>\n",
       "    </tr>\n",
       "    <tr>\n",
       "      <th>17</th>\n",
       "      <td>2021</td>\n",
       "      <td>21</td>\n",
       "    </tr>\n",
       "    <tr>\n",
       "      <th>18</th>\n",
       "      <td>2022</td>\n",
       "      <td>26</td>\n",
       "    </tr>\n",
       "    <tr>\n",
       "      <th>19</th>\n",
       "      <td>2023</td>\n",
       "      <td>22</td>\n",
       "    </tr>\n",
       "    <tr>\n",
       "      <th>20</th>\n",
       "      <td>2024</td>\n",
       "      <td>25</td>\n",
       "    </tr>\n",
       "  </tbody>\n",
       "</table>\n",
       "</div>"
      ],
      "text/plain": [
       "    Year  Count of Hot Days\n",
       "0   2004                  9\n",
       "1   2005                 14\n",
       "2   2006                 17\n",
       "3   2007                  4\n",
       "4   2008                 12\n",
       "5   2009                 20\n",
       "6   2010                 11\n",
       "7   2011                  6\n",
       "8   2012                  8\n",
       "9   2013                  7\n",
       "10  2014                 15\n",
       "11  2015                 24\n",
       "12  2016                 13\n",
       "13  2017                 22\n",
       "14  2018                 29\n",
       "15  2019                  9\n",
       "16  2020                 13\n",
       "17  2021                 21\n",
       "18  2022                 26\n",
       "19  2023                 22\n",
       "20  2024                 25"
      ]
     },
     "execution_count": 14,
     "metadata": {},
     "output_type": "execute_result"
    }
   ],
   "source": [
    "df=df_portland_air\n",
    "\n",
    "df['Year'] = df['date'].dt.year\n",
    "hot_days = df.loc[df['max_temp'] > 90]\n",
    "\n",
    "annual_hot_days = hot_days.groupby('Year').size()\n",
    "annual_hot_days_df = annual_hot_days.reset_index(name='Count of Hot Days')\n",
    "\n",
    "annual_hot_days_df\n"
   ]
  },
  {
   "cell_type": "code",
   "execution_count": 15,
   "id": "2142a7c7",
   "metadata": {},
   "outputs": [
    {
     "data": {
      "image/png": "[encoded data removed]",
      "text/plain": [
       "<Figure size 864x432 with 1 Axes>"
      ]
     },
     "metadata": {
      "needs_background": "light"
     },
     "output_type": "display_data"
    }
   ],
   "source": [
    "\n",
    "x = annual_hot_days.index.astype(int)  \n",
    "y = annual_hot_days.values\n",
    "\n",
    "\n",
    "coefficients = np.polyfit(x, y, 2)\n",
    "# Generate a polynomial function from these coefficients\n",
    "poly_func = np.poly1d(coefficients)\n",
    "\n",
    "# Generate x values for the trend line (from min year to max year)\n",
    "x_fit = np.linspace(x.min(), x.max(), 100)\n",
    "y_fit = poly_func(x_fit)\n",
    "# Start the plot\n",
    "plt.figure(figsize=(12, 6))\n",
    "\n",
    "# Create a bar plot\n",
    "plt.bar(x, y, color='salmon', label='Number of Hot Days')\n",
    "\n",
    "# Add the smooth trend line\n",
    "plt.plot(x_fit, y_fit, color='blue', linewidth=3, label='Trend Line')\n",
    "\n",
    "# Adding titles and labels\n",
    "plt.title('Annual Count of Days with Max Temp > 90°F (2004-2023) with Trend Line')\n",
    "plt.xlabel('Year')\n",
    "plt.ylabel('Number of Hot Days')\n",
    "plt.grid(True, which='both', linestyle='--', linewidth=0.5)\n",
    "plt.legend()\n",
    "\n",
    "# Show the plot\n",
    "plt.show()\n"
   ]
  },
  {
   "cell_type": "markdown",
   "id": "2e5184c4",
   "metadata": {},
   "source": [
    "#### Findings"
   ]
  },
  {
   "cell_type": "markdown",
   "id": "d22817a9",
   "metadata": {},
   "source": [
    "- The plor shows a general upward trend in the number of days reaching over 90°F across the years. This suggests that over the last two decades, there has been an increase in hotter days, which could be indicative of warming trends in the area.\n",
    "- The last few years on the graph show a higher frequency of hot days compared to earlier years, aligning with the upward trend shown by the trend line. This could suggest a more recent intensification of heat, possibly linked to climate change."
   ]
  },
  {
   "cell_type": "code",
   "execution_count": 16,
   "id": "4247862f",
   "metadata": {},
   "outputs": [
    {
     "data": {
      "text/html": [
       "<div>\n",
       "<style scoped>\n",
       "    .dataframe tbody tr th:only-of-type {\n",
       "        vertical-align: middle;\n",
       "    }\n",
       "\n",
       "    .dataframe tbody tr th {\n",
       "        vertical-align: top;\n",
       "    }\n",
       "\n",
       "    .dataframe thead th {\n",
       "        text-align: right;\n",
       "    }\n",
       "</style>\n",
       "<table border=\"1\" class=\"dataframe\">\n",
       "  <thead>\n",
       "    <tr style=\"text-align: right;\">\n",
       "      <th></th>\n",
       "      <th>Year</th>\n",
       "      <th>Count of Hot Days</th>\n",
       "      <th>Count of Cold Days</th>\n",
       "    </tr>\n",
       "  </thead>\n",
       "  <tbody>\n",
       "    <tr>\n",
       "      <th>0</th>\n",
       "      <td>2004</td>\n",
       "      <td>9</td>\n",
       "      <td>17</td>\n",
       "    </tr>\n",
       "    <tr>\n",
       "      <th>1</th>\n",
       "      <td>2005</td>\n",
       "      <td>14</td>\n",
       "      <td>37</td>\n",
       "    </tr>\n",
       "    <tr>\n",
       "      <th>2</th>\n",
       "      <td>2006</td>\n",
       "      <td>17</td>\n",
       "      <td>23</td>\n",
       "    </tr>\n",
       "    <tr>\n",
       "      <th>3</th>\n",
       "      <td>2007</td>\n",
       "      <td>4</td>\n",
       "      <td>27</td>\n",
       "    </tr>\n",
       "    <tr>\n",
       "      <th>4</th>\n",
       "      <td>2008</td>\n",
       "      <td>12</td>\n",
       "      <td>26</td>\n",
       "    </tr>\n",
       "    <tr>\n",
       "      <th>5</th>\n",
       "      <td>2009</td>\n",
       "      <td>20</td>\n",
       "      <td>47</td>\n",
       "    </tr>\n",
       "    <tr>\n",
       "      <th>6</th>\n",
       "      <td>2010</td>\n",
       "      <td>11</td>\n",
       "      <td>10</td>\n",
       "    </tr>\n",
       "    <tr>\n",
       "      <th>7</th>\n",
       "      <td>2011</td>\n",
       "      <td>6</td>\n",
       "      <td>33</td>\n",
       "    </tr>\n",
       "    <tr>\n",
       "      <th>8</th>\n",
       "      <td>2012</td>\n",
       "      <td>8</td>\n",
       "      <td>18</td>\n",
       "    </tr>\n",
       "    <tr>\n",
       "      <th>9</th>\n",
       "      <td>2013</td>\n",
       "      <td>7</td>\n",
       "      <td>37</td>\n",
       "    </tr>\n",
       "    <tr>\n",
       "      <th>10</th>\n",
       "      <td>2014</td>\n",
       "      <td>15</td>\n",
       "      <td>31</td>\n",
       "    </tr>\n",
       "    <tr>\n",
       "      <th>11</th>\n",
       "      <td>2015</td>\n",
       "      <td>24</td>\n",
       "      <td>17</td>\n",
       "    </tr>\n",
       "    <tr>\n",
       "      <th>12</th>\n",
       "      <td>2016</td>\n",
       "      <td>13</td>\n",
       "      <td>22</td>\n",
       "    </tr>\n",
       "    <tr>\n",
       "      <th>13</th>\n",
       "      <td>2017</td>\n",
       "      <td>22</td>\n",
       "      <td>36</td>\n",
       "    </tr>\n",
       "    <tr>\n",
       "      <th>14</th>\n",
       "      <td>2018</td>\n",
       "      <td>29</td>\n",
       "      <td>11</td>\n",
       "    </tr>\n",
       "    <tr>\n",
       "      <th>15</th>\n",
       "      <td>2019</td>\n",
       "      <td>9</td>\n",
       "      <td>35</td>\n",
       "    </tr>\n",
       "    <tr>\n",
       "      <th>16</th>\n",
       "      <td>2020</td>\n",
       "      <td>13</td>\n",
       "      <td>18</td>\n",
       "    </tr>\n",
       "    <tr>\n",
       "      <th>17</th>\n",
       "      <td>2021</td>\n",
       "      <td>21</td>\n",
       "      <td>16</td>\n",
       "    </tr>\n",
       "    <tr>\n",
       "      <th>18</th>\n",
       "      <td>2022</td>\n",
       "      <td>26</td>\n",
       "      <td>28</td>\n",
       "    </tr>\n",
       "    <tr>\n",
       "      <th>19</th>\n",
       "      <td>2023</td>\n",
       "      <td>22</td>\n",
       "      <td>21</td>\n",
       "    </tr>\n",
       "    <tr>\n",
       "      <th>20</th>\n",
       "      <td>2024</td>\n",
       "      <td>25</td>\n",
       "      <td>9</td>\n",
       "    </tr>\n",
       "  </tbody>\n",
       "</table>\n",
       "</div>"
      ],
      "text/plain": [
       "    Year  Count of Hot Days  Count of Cold Days\n",
       "0   2004                  9                  17\n",
       "1   2005                 14                  37\n",
       "2   2006                 17                  23\n",
       "3   2007                  4                  27\n",
       "4   2008                 12                  26\n",
       "5   2009                 20                  47\n",
       "6   2010                 11                  10\n",
       "7   2011                  6                  33\n",
       "8   2012                  8                  18\n",
       "9   2013                  7                  37\n",
       "10  2014                 15                  31\n",
       "11  2015                 24                  17\n",
       "12  2016                 13                  22\n",
       "13  2017                 22                  36\n",
       "14  2018                 29                  11\n",
       "15  2019                  9                  35\n",
       "16  2020                 13                  18\n",
       "17  2021                 21                  16\n",
       "18  2022                 26                  28\n",
       "19  2023                 22                  21\n",
       "20  2024                 25                   9"
      ]
     },
     "execution_count": 16,
     "metadata": {},
     "output_type": "execute_result"
    }
   ],
   "source": [
    "# take a look of the days in a year that is below freezing:\n",
    "\n",
    "cold_days = df.loc[df['min_temp'] < 32]\n",
    "annual_cold_days = cold_days.groupby('Year').size()\n",
    "annual_cold_days_df = annual_cold_days.reset_index(name='Count of Cold Days')\n",
    "\n",
    "annual_temperature_days_df = pd.merge(annual_hot_days_df, annual_cold_days_df, on='Year', how='outer')\n",
    "\n",
    "# Fill NaN values with 0 if there are any years without hot or cold days\n",
    "annual_temperature_days_df.fillna(0, inplace=True)\n",
    "\n",
    "# Convert counts to integer if they were floats due to NaN filling\n",
    "annual_temperature_days_df['Count of Hot Days'] = annual_temperature_days_df['Count of Hot Days'].astype(int)\n",
    "annual_temperature_days_df['Count of Cold Days'] = annual_temperature_days_df['Count of Cold Days'].astype(int)\n",
    "\n",
    "annual_temperature_days_df "
   ]
  },
  {
   "cell_type": "code",
   "execution_count": 17,
   "id": "4ec6eb48",
   "metadata": {},
   "outputs": [
    {
     "data": {
      "image/png": "[encoded data removed]",
      "text/plain": [
       "<Figure size 864x504 with 1 Axes>"
      ]
     },
     "metadata": {
      "needs_background": "light"
     },
     "output_type": "display_data"
    }
   ],
   "source": [
    "# Setting the positions and width for the bars\n",
    "positions = np.arange(len(annual_temperature_days_df['Year']))\n",
    "width = 0.35  # the width of the bars\n",
    "\n",
    "# Start plotting\n",
    "fig, ax = plt.subplots(figsize=(12, 7))\n",
    "\n",
    "# Plotting the bars for hot days and cold days side by side\n",
    "rects1 = ax.bar(positions - width/2, annual_temperature_days_df['Count of Hot Days'], width, label='Hot Days (>90°F)', color='salmon')\n",
    "rects2 = ax.bar(positions + width/2, annual_temperature_days_df['Count of Cold Days'], width, label='Cold Days (<32°F)', color='skyblue')\n",
    "\n",
    "# adding some text for labels, title and custom x-axis tick labels\n",
    "ax.set_xlabel('Year')\n",
    "ax.set_ylabel('Number of Days')\n",
    "ax.set_title('Annual Count of Hot and Cold Days')\n",
    "ax.set_xticks(positions)\n",
    "ax.set_xticklabels(annual_temperature_days_df['Year'])\n",
    "ax.legend()\n",
    "\n",
    "#add labels on bars\n",
    "def add_labels(rects):\n",
    "    for rect in rects:\n",
    "        height = rect.get_height()\n",
    "        ax.annotate('{}'.format(height),\n",
    "                    xy=(rect.get_x() + rect.get_width() / 2, height),\n",
    "                    xytext=(0, 3),  # 3 points vertical offset\n",
    "                    textcoords=\"offset points\",\n",
    "                    ha='center', va='bottom')\n",
    "\n",
    "add_labels(rects1)\n",
    "add_labels(rects2)\n",
    "\n",
    "fig.tight_layout()\n",
    "plt.show()"
   ]
  },
  {
   "cell_type": "markdown",
   "id": "2b660433",
   "metadata": {},
   "source": [
    "#### Findings"
   ]
  },
  {
   "cell_type": "markdown",
   "id": "b23d2b8c",
   "metadata": {},
   "source": [
    "- While there appears to be a general upward trend in the number of hot days over the period, with some fluctuation,  the trend for cold days seems generally stable or slightly declining over the same period."
   ]
  },
  {
   "cell_type": "markdown",
   "id": "bb4d3b71",
   "metadata": {},
   "source": [
    "## Visualizing and Analyzing Precipitation Data\n"
   ]
  },
  {
   "cell_type": "markdown",
   "id": "3e00f36a",
   "metadata": {},
   "source": [
    "### Data Preperation"
   ]
  },
  {
   "cell_type": "code",
   "execution_count": 18,
   "id": "9913f335",
   "metadata": {},
   "outputs": [
    {
     "name": "stdout",
     "output_type": "stream",
     "text": [
      "       STATION                                   NAME       DATE  PRCP  SNOW  \\\n",
      "0  USW00024229  PORTLAND INTERNATIONAL AIRPORT, OR US 2004-01-01  0.25   1.7   \n",
      "1  USW00024229  PORTLAND INTERNATIONAL AIRPORT, OR US 2004-01-02  0.21   1.0   \n",
      "2  USW00024229  PORTLAND INTERNATIONAL AIRPORT, OR US 2004-01-03  0.02   0.0   \n",
      "3  USW00024229  PORTLAND INTERNATIONAL AIRPORT, OR US 2004-01-04  0.00   0.0   \n",
      "4  USW00024229  PORTLAND INTERNATIONAL AIRPORT, OR US 2004-01-05  0.00   0.0   \n",
      "\n",
      "   SNWD  TAVG  TMAX  TMIN  \n",
      "0   2.0  35.0    37    32  \n",
      "1   2.0  38.0    41    35  \n",
      "2   1.0  39.0    41    36  \n",
      "3   0.0  31.0    37    24  \n",
      "4   0.0  22.0    24    20  \n"
     ]
    }
   ],
   "source": [
    "# get data from NOAA\n",
    "df_portland=pd.read_csv('/Users/lauriezeng/Downloads/3799381.csv')\n",
    "df_portland['DATE']=pd.to_datetime(df_portland['DATE'])\n",
    "print(df_portland.head())\n"
   ]
  },
  {
   "cell_type": "code",
   "execution_count": 19,
   "id": "ff3c024c",
   "metadata": {},
   "outputs": [
    {
     "data": {
      "text/plain": [
       "STATION            object\n",
       "NAME               object\n",
       "DATE       datetime64[ns]\n",
       "PRCP              float64\n",
       "SNOW              float64\n",
       "SNWD              float64\n",
       "TAVG              float64\n",
       "TMAX                int64\n",
       "TMIN                int64\n",
       "dtype: object"
      ]
     },
     "execution_count": 19,
     "metadata": {},
     "output_type": "execute_result"
    }
   ],
   "source": [
    "df_portland.dtypes"
   ]
  },
  {
   "cell_type": "code",
   "execution_count": 20,
   "id": "68462513",
   "metadata": {},
   "outputs": [
    {
     "data": {
      "text/plain": [
       "DATE    datetime64[ns]\n",
       "PRCP           float64\n",
       "dtype: object"
      ]
     },
     "execution_count": 20,
     "metadata": {},
     "output_type": "execute_result"
    }
   ],
   "source": [
    "# filter the columns we need\n",
    "df_prcp=df_portland[['DATE','PRCP']]\n",
    "df_prcp.dtypes"
   ]
  },
  {
   "cell_type": "code",
   "execution_count": 21,
   "id": "0c8ab4da",
   "metadata": {},
   "outputs": [
    {
     "data": {
      "text/plain": [
       "DATE    0\n",
       "PRCP    0\n",
       "dtype: int64"
      ]
     },
     "execution_count": 21,
     "metadata": {},
     "output_type": "execute_result"
    }
   ],
   "source": [
    "# check for missing values\n",
    "df_prcp.isnull().sum()"
   ]
  },
  {
   "cell_type": "code",
   "execution_count": 22,
   "id": "596ba647",
   "metadata": {},
   "outputs": [
    {
     "name": "stderr",
     "output_type": "stream",
     "text": [
      "/var/folders/qr/19v993z57q535jfw7xggwbc00000gn/T/ipykernel_50918/3517294883.py:2: SettingWithCopyWarning: \n",
      "A value is trying to be set on a copy of a slice from a DataFrame\n",
      "\n",
      "See the caveats in the documentation: https://pandas.pydata.org/pandas-docs/stable/user_guide/indexing.html#returning-a-view-versus-a-copy\n",
      "  df_prcp.rename(columns={\n"
     ]
    },
    {
     "data": {
      "text/html": [
       "<div>\n",
       "<style scoped>\n",
       "    .dataframe tbody tr th:only-of-type {\n",
       "        vertical-align: middle;\n",
       "    }\n",
       "\n",
       "    .dataframe tbody tr th {\n",
       "        vertical-align: top;\n",
       "    }\n",
       "\n",
       "    .dataframe thead th {\n",
       "        text-align: right;\n",
       "    }\n",
       "</style>\n",
       "<table border=\"1\" class=\"dataframe\">\n",
       "  <thead>\n",
       "    <tr style=\"text-align: right;\">\n",
       "      <th></th>\n",
       "      <th>date</th>\n",
       "      <th>precipitation</th>\n",
       "    </tr>\n",
       "  </thead>\n",
       "  <tbody>\n",
       "    <tr>\n",
       "      <th>0</th>\n",
       "      <td>2004-01-01</td>\n",
       "      <td>0.25</td>\n",
       "    </tr>\n",
       "    <tr>\n",
       "      <th>1</th>\n",
       "      <td>2004-01-02</td>\n",
       "      <td>0.21</td>\n",
       "    </tr>\n",
       "    <tr>\n",
       "      <th>2</th>\n",
       "      <td>2004-01-03</td>\n",
       "      <td>0.02</td>\n",
       "    </tr>\n",
       "    <tr>\n",
       "      <th>3</th>\n",
       "      <td>2004-01-04</td>\n",
       "      <td>0.00</td>\n",
       "    </tr>\n",
       "    <tr>\n",
       "      <th>4</th>\n",
       "      <td>2004-01-05</td>\n",
       "      <td>0.00</td>\n",
       "    </tr>\n",
       "  </tbody>\n",
       "</table>\n",
       "</div>"
      ],
      "text/plain": [
       "        date  precipitation\n",
       "0 2004-01-01           0.25\n",
       "1 2004-01-02           0.21\n",
       "2 2004-01-03           0.02\n",
       "3 2004-01-04           0.00\n",
       "4 2004-01-05           0.00"
      ]
     },
     "execution_count": 22,
     "metadata": {},
     "output_type": "execute_result"
    }
   ],
   "source": [
    "#rename the columns\n",
    "df_prcp.rename(columns={\n",
    "    'DATE':'date',\n",
    "    'PRCP':'precipitation'},\n",
    "    inplace=True\n",
    "\n",
    ")\n",
    "\n",
    "df_prcp.head()\n"
   ]
  },
  {
   "cell_type": "markdown",
   "id": "9f07ac59",
   "metadata": {},
   "source": [
    "### Analyzing Precipitation Tempreture Data"
   ]
  },
  {
   "cell_type": "code",
   "execution_count": 23,
   "id": "dd4dc37e",
   "metadata": {},
   "outputs": [
    {
     "name": "stdout",
     "output_type": "stream",
     "text": [
      "Min Date:  2004-01-01 00:00:00\n",
      "Max Date:  2024-09-08 00:00:00\n"
     ]
    }
   ],
   "source": [
    "print ('Min Date: ', df_prcp['date'].min())\n",
    "print ('Max Date: ', df_prcp['date'].max())"
   ]
  },
  {
   "cell_type": "code",
   "execution_count": 24,
   "id": "fac7883b",
   "metadata": {
    "scrolled": true
   },
   "outputs": [
    {
     "data": {
      "text/html": [
       "<div>\n",
       "<style scoped>\n",
       "    .dataframe tbody tr th:only-of-type {\n",
       "        vertical-align: middle;\n",
       "    }\n",
       "\n",
       "    .dataframe tbody tr th {\n",
       "        vertical-align: top;\n",
       "    }\n",
       "\n",
       "    .dataframe thead th {\n",
       "        text-align: right;\n",
       "    }\n",
       "</style>\n",
       "<table border=\"1\" class=\"dataframe\">\n",
       "  <thead>\n",
       "    <tr style=\"text-align: right;\">\n",
       "      <th></th>\n",
       "      <th>date</th>\n",
       "      <th>precipitation</th>\n",
       "    </tr>\n",
       "  </thead>\n",
       "  <tbody>\n",
       "    <tr>\n",
       "      <th>count</th>\n",
       "      <td>7557</td>\n",
       "      <td>7557.000000</td>\n",
       "    </tr>\n",
       "    <tr>\n",
       "      <th>mean</th>\n",
       "      <td>2014-05-06 00:00:00.000000256</td>\n",
       "      <td>0.098850</td>\n",
       "    </tr>\n",
       "    <tr>\n",
       "      <th>min</th>\n",
       "      <td>2004-01-01 00:00:00</td>\n",
       "      <td>0.000000</td>\n",
       "    </tr>\n",
       "    <tr>\n",
       "      <th>25%</th>\n",
       "      <td>2009-03-04 00:00:00</td>\n",
       "      <td>0.000000</td>\n",
       "    </tr>\n",
       "    <tr>\n",
       "      <th>50%</th>\n",
       "      <td>2014-05-06 00:00:00</td>\n",
       "      <td>0.000000</td>\n",
       "    </tr>\n",
       "    <tr>\n",
       "      <th>75%</th>\n",
       "      <td>2019-07-08 00:00:00</td>\n",
       "      <td>0.100000</td>\n",
       "    </tr>\n",
       "    <tr>\n",
       "      <th>max</th>\n",
       "      <td>2024-09-08 00:00:00</td>\n",
       "      <td>2.670000</td>\n",
       "    </tr>\n",
       "    <tr>\n",
       "      <th>std</th>\n",
       "      <td>NaN</td>\n",
       "      <td>0.223106</td>\n",
       "    </tr>\n",
       "  </tbody>\n",
       "</table>\n",
       "</div>"
      ],
      "text/plain": [
       "                                date  precipitation\n",
       "count                           7557    7557.000000\n",
       "mean   2014-05-06 00:00:00.000000256       0.098850\n",
       "min              2004-01-01 00:00:00       0.000000\n",
       "25%              2009-03-04 00:00:00       0.000000\n",
       "50%              2014-05-06 00:00:00       0.000000\n",
       "75%              2019-07-08 00:00:00       0.100000\n",
       "max              2024-09-08 00:00:00       2.670000\n",
       "std                              NaN       0.223106"
      ]
     },
     "execution_count": 24,
     "metadata": {},
     "output_type": "execute_result"
    }
   ],
   "source": [
    "#summary of the dateset\n",
    "df_prcp.describe()"
   ]
  },
  {
   "cell_type": "code",
   "execution_count": 25,
   "id": "7a2a05a3",
   "metadata": {
    "scrolled": true
   },
   "outputs": [
    {
     "data": {
      "image/png": "[encoded data removed]",
      "text/plain": [
       "<Figure size 864x360 with 1 Axes>"
      ]
     },
     "metadata": {
      "needs_background": "light"
     },
     "output_type": "display_data"
    }
   ],
   "source": [
    "# plot the time series\n",
    "fig, ax = plt.subplots(figsize=(12, 5))\n",
    "\n",
    "df_prcp.plot(x='date',y='precipitation',ax=ax,color='xkcd:pastel purple')\n",
    "plt.title('Time Series of Precipitation in Portland, OR')\n",
    "plt.xlabel('Date')\n",
    "plt.ylabel('Precipitation')\n",
    "\n",
    "plt.show()\n",
    "\n"
   ]
  },
  {
   "cell_type": "code",
   "execution_count": 26,
   "id": "2b38258b",
   "metadata": {
    "scrolled": true
   },
   "outputs": [
    {
     "data": {
      "image/png": "[encoded data removed]",
      "text/plain": [
       "<Figure size 360x360 with 1 Axes>"
      ]
     },
     "metadata": {
      "needs_background": "light"
     },
     "output_type": "display_data"
    }
   ],
   "source": [
    "precipitation_data = df_prcp['precipitation'].dropna()\n",
    "fig, ax = plt.subplots(figsize=(5, 5))\n",
    "\n",
    "# Plot the histogram\n",
    "ax.hist(df_prcp['precipitation'], bins=10, color='xkcd:pastel purple', alpha=0.6, label='Histogram', density=True)\n",
    "\n",
    "# Add labels and title\n",
    "ax.set_title('Precipitation Distribution')\n",
    "ax.set_xlabel('Precipitation')\n",
    "ax.set_ylabel('Density')\n",
    "\n",
    "# Show legend\n",
    "ax.legend()\n",
    "\n",
    "# Show the plot\n",
    "plt.show()\n"
   ]
  },
  {
   "cell_type": "markdown",
   "id": "dd779d55",
   "metadata": {},
   "source": [
    "#### Findings"
   ]
  },
  {
   "cell_type": "markdown",
   "id": "467fe5c3",
   "metadata": {},
   "source": [
    "- The time series plot likely reflects seasonal precipitation patterns, where Portland experiences periods of high precipitation during certain times of the year (likely in winter and early spring).\n",
    "\n",
    "- The precipitation distribution shows that most days have very low precipitation, and significant rain events are relatively infrequent."
   ]
  },
  {
   "cell_type": "code",
   "execution_count": 27,
   "id": "3b34a5c8",
   "metadata": {},
   "outputs": [
    {
     "data": {
      "image/png": "[encoded data removed]",
      "text/plain": [
       "<Figure size 576x432 with 1 Axes>"
      ]
     },
     "metadata": {},
     "output_type": "display_data"
    }
   ],
   "source": [
    "# filter the data between January 1, 2004 and January 1, 2024\n",
    "start_date = '2004-01-01'\n",
    "end_date = '2024-01-01'\n",
    "filtered_df = df_prcp[(df_prcp['date'] >= start_date) & (df_prcp['date'] < end_date)]\n",
    "\n",
    "rain_days = (filtered_df['precipitation'] > 0).sum()  \n",
    "no_rain_days = (filtered_df['precipitation'] == 0).sum()  \n",
    "\n",
    "labels = ['Rain Days', 'No Rain Days']\n",
    "sizes = [rain_days, no_rain_days]\n",
    "colors = ['xkcd:pastel purple', 'xkcd:pastel orange']\n",
    "\n",
    "\n",
    "def make_autopct(sizes):\n",
    "    def my_autopct(pct):\n",
    "        total = sum(sizes)\n",
    "        val = int(round(pct * total / 100.0))\n",
    "        return '{p:.1f}%\\n({v:d} days)'.format(p=pct, v=val)\n",
    "    return my_autopct\n",
    "\n",
    "plt.figure(figsize=(8, 6))\n",
    "plt.pie(sizes, labels=labels, colors=colors, autopct=make_autopct(sizes), startangle=90, explode=(0.1, 0))\n",
    "\n",
    "# add title\n",
    "plt.title('Proportion of Rain Days vs No Rain Days (2004-2024)')\n",
    "\n",
    "# equal aspect ratio ensures that pie is drawn as a circle\n",
    "plt.axis('equal')\n",
    "\n",
    "\n",
    "plt.show()\n"
   ]
  },
  {
   "cell_type": "markdown",
   "id": "34420d66",
   "metadata": {},
   "source": [
    "#### Findings"
   ]
  },
  {
   "cell_type": "markdown",
   "id": "37518df3",
   "metadata": {},
   "source": [
    "- The proportion of no rain days (57.5%) is larger than rain days (42.5%), indicating that over this period, Portland, OR experienced more dry days than rainy days.\n",
    "- With 42.5% of days experiencing rain, this shows that Portland still has a significant number of rain days. This aligns with the city's reputation for having frequent rainfall, though not every day is rainy."
   ]
  },
  {
   "cell_type": "markdown",
   "id": "dd2d8dc6",
   "metadata": {},
   "source": [
    "## Visualizing& Analyzing GWL Data"
   ]
  },
  {
   "cell_type": "code",
   "execution_count": 28,
   "id": "84a3c679",
   "metadata": {},
   "outputs": [
    {
     "name": "stdout",
     "output_type": "stream",
     "text": [
      "Requirement already satisfied: dataretrieval in /Users/lauriezeng/opt/anaconda3/lib/python3.9/site-packages (1.0.10)\n",
      "Requirement already satisfied: pandas==2.* in /Users/lauriezeng/opt/anaconda3/lib/python3.9/site-packages (from dataretrieval) (2.2.2)\n",
      "Requirement already satisfied: requests in /Users/lauriezeng/opt/anaconda3/lib/python3.9/site-packages (from dataretrieval) (2.27.1)\n",
      "Requirement already satisfied: pytz>=2020.1 in /Users/lauriezeng/opt/anaconda3/lib/python3.9/site-packages (from pandas==2.*->dataretrieval) (2021.3)\n",
      "Requirement already satisfied: numpy>=1.22.4 in /Users/lauriezeng/opt/anaconda3/lib/python3.9/site-packages (from pandas==2.*->dataretrieval) (1.23.4)\n",
      "Requirement already satisfied: tzdata>=2022.7 in /Users/lauriezeng/opt/anaconda3/lib/python3.9/site-packages (from pandas==2.*->dataretrieval) (2024.1)\n",
      "Requirement already satisfied: python-dateutil>=2.8.2 in /Users/lauriezeng/opt/anaconda3/lib/python3.9/site-packages (from pandas==2.*->dataretrieval) (2.8.2)\n",
      "Requirement already satisfied: idna<4,>=2.5 in /Users/lauriezeng/opt/anaconda3/lib/python3.9/site-packages (from requests->dataretrieval) (3.3)\n",
      "Requirement already satisfied: urllib3<1.27,>=1.21.1 in /Users/lauriezeng/opt/anaconda3/lib/python3.9/site-packages (from requests->dataretrieval) (1.26.9)\n",
      "Requirement already satisfied: certifi>=2017.4.17 in /Users/lauriezeng/opt/anaconda3/lib/python3.9/site-packages (from requests->dataretrieval) (2021.10.8)\n",
      "Requirement already satisfied: charset-normalizer~=2.0.0 in /Users/lauriezeng/opt/anaconda3/lib/python3.9/site-packages (from requests->dataretrieval) (2.0.4)\n",
      "Requirement already satisfied: six>=1.5 in /Users/lauriezeng/opt/anaconda3/lib/python3.9/site-packages (from python-dateutil>=2.8.2->pandas==2.*->dataretrieval) (1.16.0)\n",
      "\u001b[33mWARNING: There was an error checking the latest version of pip.\u001b[0m\u001b[33m\n",
      "\u001b[0m"
     ]
    }
   ],
   "source": [
    "#insatll package\n",
    "! pip install dataretrieval\n",
    "#import libraries\n",
    "import dataretrieval.nwis as nwis"
   ]
  },
  {
   "cell_type": "markdown",
   "id": "4e0c1b4d",
   "metadata": {},
   "source": [
    "### Collecting GWL data from USGS via NWIS"
   ]
  },
  {
   "cell_type": "code",
   "execution_count": 29,
   "id": "8f9e7832",
   "metadata": {
    "scrolled": true
   },
   "outputs": [
    {
     "data": {
      "text/html": [
       "<div>\n",
       "<style scoped>\n",
       "    .dataframe tbody tr th:only-of-type {\n",
       "        vertical-align: middle;\n",
       "    }\n",
       "\n",
       "    .dataframe tbody tr th {\n",
       "        vertical-align: top;\n",
       "    }\n",
       "\n",
       "    .dataframe thead th {\n",
       "        text-align: right;\n",
       "    }\n",
       "</style>\n",
       "<table border=\"1\" class=\"dataframe\">\n",
       "  <thead>\n",
       "    <tr style=\"text-align: right;\">\n",
       "      <th></th>\n",
       "      <th>agency_cd</th>\n",
       "      <th>site_no</th>\n",
       "      <th>station_nm</th>\n",
       "      <th>site_tp_cd</th>\n",
       "      <th>lat_va</th>\n",
       "      <th>long_va</th>\n",
       "      <th>dec_lat_va</th>\n",
       "      <th>dec_long_va</th>\n",
       "      <th>coord_meth_cd</th>\n",
       "      <th>coord_acy_cd</th>\n",
       "      <th>...</th>\n",
       "      <th>local_time_fg</th>\n",
       "      <th>reliability_cd</th>\n",
       "      <th>gw_file_cd</th>\n",
       "      <th>nat_aqfr_cd</th>\n",
       "      <th>aqfr_cd</th>\n",
       "      <th>aqfr_type_cd</th>\n",
       "      <th>well_depth_va</th>\n",
       "      <th>hole_depth_va</th>\n",
       "      <th>depth_src_cd</th>\n",
       "      <th>project_no</th>\n",
       "    </tr>\n",
       "  </thead>\n",
       "  <tbody>\n",
       "    <tr>\n",
       "      <th>0</th>\n",
       "      <td>USGS</td>\n",
       "      <td>452912122312801</td>\n",
       "      <td>01.00S/02.00E-14ABC01</td>\n",
       "      <td>GW</td>\n",
       "      <td>452911.27</td>\n",
       "      <td>1223133.92</td>\n",
       "      <td>45.486464</td>\n",
       "      <td>-122.526089</td>\n",
       "      <td>G</td>\n",
       "      <td>5</td>\n",
       "      <td>...</td>\n",
       "      <td>Y</td>\n",
       "      <td>C</td>\n",
       "      <td>YYYNNYNN</td>\n",
       "      <td>N100WLMLWD</td>\n",
       "      <td>121TRDL</td>\n",
       "      <td>U</td>\n",
       "      <td>59</td>\n",
       "      <td>63</td>\n",
       "      <td>D</td>\n",
       "      <td>4741-17500</td>\n",
       "    </tr>\n",
       "  </tbody>\n",
       "</table>\n",
       "<p>1 rows × 42 columns</p>\n",
       "</div>"
      ],
      "text/plain": [
       "  agency_cd          site_no             station_nm site_tp_cd     lat_va  \\\n",
       "0      USGS  452912122312801  01.00S/02.00E-14ABC01         GW  452911.27   \n",
       "\n",
       "      long_va  dec_lat_va  dec_long_va coord_meth_cd  coord_acy_cd  ...  \\\n",
       "0  1223133.92   45.486464  -122.526089             G             5  ...   \n",
       "\n",
       "  local_time_fg reliability_cd  gw_file_cd  nat_aqfr_cd  aqfr_cd aqfr_type_cd  \\\n",
       "0             Y              C    YYYNNYNN   N100WLMLWD  121TRDL            U   \n",
       "\n",
       "  well_depth_va hole_depth_va  depth_src_cd  project_no  \n",
       "0            59            63             D  4741-17500  \n",
       "\n",
       "[1 rows x 42 columns]"
      ]
     },
     "metadata": {},
     "output_type": "display_data"
    },
    {
     "data": {
      "text/html": [
       "<div>\n",
       "<style scoped>\n",
       "    .dataframe tbody tr th:only-of-type {\n",
       "        vertical-align: middle;\n",
       "    }\n",
       "\n",
       "    .dataframe tbody tr th {\n",
       "        vertical-align: top;\n",
       "    }\n",
       "\n",
       "    .dataframe thead th {\n",
       "        text-align: right;\n",
       "    }\n",
       "</style>\n",
       "<table border=\"1\" class=\"dataframe\">\n",
       "  <thead>\n",
       "    <tr style=\"text-align: right;\">\n",
       "      <th></th>\n",
       "      <th>datetime</th>\n",
       "      <th>site_no</th>\n",
       "      <th>72019_Mean</th>\n",
       "      <th>72019_Mean_cd</th>\n",
       "    </tr>\n",
       "  </thead>\n",
       "  <tbody>\n",
       "    <tr>\n",
       "      <th>0</th>\n",
       "      <td>2004-01-01 00:00:00+00:00</td>\n",
       "      <td>452912122312801</td>\n",
       "      <td>45.86</td>\n",
       "      <td>A</td>\n",
       "    </tr>\n",
       "    <tr>\n",
       "      <th>1</th>\n",
       "      <td>2004-01-02 00:00:00+00:00</td>\n",
       "      <td>452912122312801</td>\n",
       "      <td>45.95</td>\n",
       "      <td>A</td>\n",
       "    </tr>\n",
       "    <tr>\n",
       "      <th>2</th>\n",
       "      <td>2004-01-03 00:00:00+00:00</td>\n",
       "      <td>452912122312801</td>\n",
       "      <td>46.02</td>\n",
       "      <td>A</td>\n",
       "    </tr>\n",
       "    <tr>\n",
       "      <th>3</th>\n",
       "      <td>2004-01-04 00:00:00+00:00</td>\n",
       "      <td>452912122312801</td>\n",
       "      <td>46.04</td>\n",
       "      <td>A</td>\n",
       "    </tr>\n",
       "    <tr>\n",
       "      <th>4</th>\n",
       "      <td>2004-01-05 00:00:00+00:00</td>\n",
       "      <td>452912122312801</td>\n",
       "      <td>45.91</td>\n",
       "      <td>A</td>\n",
       "    </tr>\n",
       "  </tbody>\n",
       "</table>\n",
       "</div>"
      ],
      "text/plain": [
       "                   datetime          site_no  72019_Mean 72019_Mean_cd\n",
       "0 2004-01-01 00:00:00+00:00  452912122312801       45.86             A\n",
       "1 2004-01-02 00:00:00+00:00  452912122312801       45.95             A\n",
       "2 2004-01-03 00:00:00+00:00  452912122312801       46.02             A\n",
       "3 2004-01-04 00:00:00+00:00  452912122312801       46.04             A\n",
       "4 2004-01-05 00:00:00+00:00  452912122312801       45.91             A"
      ]
     },
     "metadata": {},
     "output_type": "display_data"
    }
   ],
   "source": [
    "#data url:https://dashboard.waterdata.usgs.gov/app/nwd/en/?aoi=default\n",
    "site=\"452912122312801\"\n",
    "display(nwis.get_record(sites=site,service='site'))\n",
    "\n",
    "#get daily values\n",
    "df_gwl=(nwis.get_record(sites=site,service='dv',start='2004-01-01', end='2024-01-01')).reset_index()\n",
    "\n",
    "display(df_gwl.head())"
   ]
  },
  {
   "cell_type": "code",
   "execution_count": 30,
   "id": "dbfba591",
   "metadata": {},
   "outputs": [
    {
     "data": {
      "text/html": [
       "<div>\n",
       "<style scoped>\n",
       "    .dataframe tbody tr th:only-of-type {\n",
       "        vertical-align: middle;\n",
       "    }\n",
       "\n",
       "    .dataframe tbody tr th {\n",
       "        vertical-align: top;\n",
       "    }\n",
       "\n",
       "    .dataframe thead th {\n",
       "        text-align: right;\n",
       "    }\n",
       "</style>\n",
       "<table border=\"1\" class=\"dataframe\">\n",
       "  <thead>\n",
       "    <tr style=\"text-align: right;\">\n",
       "      <th></th>\n",
       "      <th>date</th>\n",
       "      <th>gwl</th>\n",
       "    </tr>\n",
       "  </thead>\n",
       "  <tbody>\n",
       "    <tr>\n",
       "      <th>0</th>\n",
       "      <td>2004-01-01 00:00:00+00:00</td>\n",
       "      <td>45.86</td>\n",
       "    </tr>\n",
       "    <tr>\n",
       "      <th>1</th>\n",
       "      <td>2004-01-02 00:00:00+00:00</td>\n",
       "      <td>45.95</td>\n",
       "    </tr>\n",
       "    <tr>\n",
       "      <th>2</th>\n",
       "      <td>2004-01-03 00:00:00+00:00</td>\n",
       "      <td>46.02</td>\n",
       "    </tr>\n",
       "    <tr>\n",
       "      <th>3</th>\n",
       "      <td>2004-01-04 00:00:00+00:00</td>\n",
       "      <td>46.04</td>\n",
       "    </tr>\n",
       "    <tr>\n",
       "      <th>4</th>\n",
       "      <td>2004-01-05 00:00:00+00:00</td>\n",
       "      <td>45.91</td>\n",
       "    </tr>\n",
       "  </tbody>\n",
       "</table>\n",
       "</div>"
      ],
      "text/plain": [
       "                       date    gwl\n",
       "0 2004-01-01 00:00:00+00:00  45.86\n",
       "1 2004-01-02 00:00:00+00:00  45.95\n",
       "2 2004-01-03 00:00:00+00:00  46.02\n",
       "3 2004-01-04 00:00:00+00:00  46.04\n",
       "4 2004-01-05 00:00:00+00:00  45.91"
      ]
     },
     "execution_count": 30,
     "metadata": {},
     "output_type": "execute_result"
    }
   ],
   "source": [
    "#extracting required columns\n",
    "df_gwl=df_gwl[['datetime','72019_Mean']]\n",
    "df_gwl.columns=['date','gwl']\n",
    "df_gwl.head()"
   ]
  },
  {
   "cell_type": "code",
   "execution_count": 31,
   "id": "4561e99d",
   "metadata": {},
   "outputs": [
    {
     "data": {
      "text/html": [
       "<div>\n",
       "<style scoped>\n",
       "    .dataframe tbody tr th:only-of-type {\n",
       "        vertical-align: middle;\n",
       "    }\n",
       "\n",
       "    .dataframe tbody tr th {\n",
       "        vertical-align: top;\n",
       "    }\n",
       "\n",
       "    .dataframe thead th {\n",
       "        text-align: right;\n",
       "    }\n",
       "</style>\n",
       "<table border=\"1\" class=\"dataframe\">\n",
       "  <thead>\n",
       "    <tr style=\"text-align: right;\">\n",
       "      <th></th>\n",
       "      <th>date</th>\n",
       "      <th>gwl</th>\n",
       "    </tr>\n",
       "  </thead>\n",
       "  <tbody>\n",
       "    <tr>\n",
       "      <th>0</th>\n",
       "      <td>2004-01-01</td>\n",
       "      <td>45.86</td>\n",
       "    </tr>\n",
       "    <tr>\n",
       "      <th>1</th>\n",
       "      <td>2004-01-02</td>\n",
       "      <td>45.95</td>\n",
       "    </tr>\n",
       "    <tr>\n",
       "      <th>2</th>\n",
       "      <td>2004-01-03</td>\n",
       "      <td>46.02</td>\n",
       "    </tr>\n",
       "    <tr>\n",
       "      <th>3</th>\n",
       "      <td>2004-01-04</td>\n",
       "      <td>46.04</td>\n",
       "    </tr>\n",
       "    <tr>\n",
       "      <th>4</th>\n",
       "      <td>2004-01-05</td>\n",
       "      <td>45.91</td>\n",
       "    </tr>\n",
       "  </tbody>\n",
       "</table>\n",
       "</div>"
      ],
      "text/plain": [
       "         date    gwl\n",
       "0  2004-01-01  45.86\n",
       "1  2004-01-02  45.95\n",
       "2  2004-01-03  46.02\n",
       "3  2004-01-04  46.04\n",
       "4  2004-01-05  45.91"
      ]
     },
     "execution_count": 31,
     "metadata": {},
     "output_type": "execute_result"
    }
   ],
   "source": [
    "#extracting the date from datetime\n",
    "df_gwl['date']=df_gwl['date'].dt.date\n",
    "df_gwl.head()"
   ]
  },
  {
   "cell_type": "code",
   "execution_count": 32,
   "id": "526868d0",
   "metadata": {},
   "outputs": [
    {
     "data": {
      "text/html": [
       "<div>\n",
       "<style scoped>\n",
       "    .dataframe tbody tr th:only-of-type {\n",
       "        vertical-align: middle;\n",
       "    }\n",
       "\n",
       "    .dataframe tbody tr th {\n",
       "        vertical-align: top;\n",
       "    }\n",
       "\n",
       "    .dataframe thead th {\n",
       "        text-align: right;\n",
       "    }\n",
       "</style>\n",
       "<table border=\"1\" class=\"dataframe\">\n",
       "  <thead>\n",
       "    <tr style=\"text-align: right;\">\n",
       "      <th></th>\n",
       "      <th>gwl</th>\n",
       "    </tr>\n",
       "  </thead>\n",
       "  <tbody>\n",
       "    <tr>\n",
       "      <th>count</th>\n",
       "      <td>7087.000000</td>\n",
       "    </tr>\n",
       "    <tr>\n",
       "      <th>mean</th>\n",
       "      <td>42.454398</td>\n",
       "    </tr>\n",
       "    <tr>\n",
       "      <th>std</th>\n",
       "      <td>2.168050</td>\n",
       "    </tr>\n",
       "    <tr>\n",
       "      <th>min</th>\n",
       "      <td>36.160000</td>\n",
       "    </tr>\n",
       "    <tr>\n",
       "      <th>25%</th>\n",
       "      <td>40.860000</td>\n",
       "    </tr>\n",
       "    <tr>\n",
       "      <th>50%</th>\n",
       "      <td>42.540000</td>\n",
       "    </tr>\n",
       "    <tr>\n",
       "      <th>75%</th>\n",
       "      <td>43.980000</td>\n",
       "    </tr>\n",
       "    <tr>\n",
       "      <th>max</th>\n",
       "      <td>48.780000</td>\n",
       "    </tr>\n",
       "  </tbody>\n",
       "</table>\n",
       "</div>"
      ],
      "text/plain": [
       "               gwl\n",
       "count  7087.000000\n",
       "mean     42.454398\n",
       "std       2.168050\n",
       "min      36.160000\n",
       "25%      40.860000\n",
       "50%      42.540000\n",
       "75%      43.980000\n",
       "max      48.780000"
      ]
     },
     "execution_count": 32,
     "metadata": {},
     "output_type": "execute_result"
    }
   ],
   "source": [
    "df_gwl.describe()"
   ]
  },
  {
   "cell_type": "code",
   "execution_count": 33,
   "id": "b2cbe966",
   "metadata": {},
   "outputs": [
    {
     "data": {
      "text/plain": [
       "date    0\n",
       "gwl     0\n",
       "dtype: int64"
      ]
     },
     "execution_count": 33,
     "metadata": {},
     "output_type": "execute_result"
    }
   ],
   "source": [
    "# checking for missing data\n",
    "df_gwl.isnull().sum()"
   ]
  },
  {
   "cell_type": "markdown",
   "id": "c6bc4895",
   "metadata": {},
   "source": [
    "### Visualizing and Analtzing GWL Data"
   ]
  },
  {
   "cell_type": "code",
   "execution_count": 34,
   "id": "47b29d0c",
   "metadata": {},
   "outputs": [
    {
     "data": {
      "image/png": "[encoded data removed]",
      "text/plain": [
       "<Figure size 864x432 with 1 Axes>"
      ]
     },
     "metadata": {
      "needs_background": "light"
     },
     "output_type": "display_data"
    }
   ],
   "source": [
    "#plot the time series\n",
    "fig,ax =plt.subplots(figsize=(12,6))\n",
    "\n",
    "df_gwl.plot(x='date',y='gwl',ax=ax,color='xkcd:dark green')\n",
    "plt.title('Time Series of Ground water Level in Portland, OR')\n",
    "plt.xlabel('Date')\n",
    "plt.ylabel('GWL')\n",
    "plt.legend()\n",
    "plt.show()"
   ]
  },
  {
   "cell_type": "code",
   "execution_count": 35,
   "id": "3bcc3192",
   "metadata": {},
   "outputs": [
    {
     "name": "stdout",
     "output_type": "stream",
     "text": [
      "\u001b[31mERROR: Could not find a version that satisfies the requirement scipy.stats (from versions: none)\u001b[0m\u001b[31m\r\n",
      "\u001b[0m\u001b[31mERROR: No matching distribution found for scipy.stats\u001b[0m\u001b[31m\r\n",
      "\u001b[0m\u001b[33mWARNING: There was an error checking the latest version of pip.\u001b[0m\u001b[33m\r\n",
      "\u001b[0m"
     ]
    },
    {
     "data": {
      "image/png": "[encoded data removed]",
      "text/plain": [
       "<Figure size 1080x432 with 1 Axes>"
      ]
     },
     "metadata": {
      "needs_background": "light"
     },
     "output_type": "display_data"
    }
   ],
   "source": [
    "!pip install scipy.stats\n",
    "\n",
    "import matplotlib.pyplot as plt\n",
    "import numpy as np\n",
    "from scipy.stats import gaussian_kde\n",
    "\n",
    "\n",
    "gwl_data = df_gwl['gwl'].dropna()\n",
    "gwl_data = gwl_data.values\n",
    "\n",
    "# Create the histogram\n",
    "plt.figure(figsize=(15, 6))\n",
    "plt.hist(gwl_data, bins=30, color='blue', alpha=0.6, density=True, label='Histogram')  # Normalized histogram\n",
    "kde = gaussian_kde(gwl_data)\n",
    "\n",
    "x_vals = np.linspace(gwl_data.min(), gwl_data.max(), 1000)\n",
    "plt.plot(x_vals, kde(x_vals), color='red', lw=2, label='Smooth KDE Line')\n",
    "\n",
    "\n",
    "plt.title('Ground Water Level Distribution with Smooth KDE Line')\n",
    "plt.xlabel('Ground Water Level')\n",
    "plt.ylabel('Density')\n",
    "plt.legend()\n",
    "\n",
    "plt.show()\n"
   ]
  },
  {
   "cell_type": "markdown",
   "id": "7b57a1a9",
   "metadata": {},
   "source": [
    "#### Findings"
   ]
  },
  {
   "cell_type": "markdown",
   "id": "888e9fdc",
   "metadata": {},
   "source": [
    "- The groundwater levels fluctuate seasonally, with peaks during wet periods and troughs during dry periods, indicating that groundwater levels in Portland are largely influenced by seasonal precipitation.\n",
    "- While there are seasonal fluctuations, the overall range of groundwater levels has remained fairly consistent over time.\n",
    "- The distribution is spread out, indicating variability in the groundwater levels, with the most frequent levels occurring around 42 and 44.\n",
    "- Extreme groundwater levels (either very low or very high) are less common, as indicated by the flat tails of the distribution."
   ]
  },
  {
   "cell_type": "markdown",
   "id": "147015aa",
   "metadata": {},
   "source": [
    "## Summary"
   ]
  },
  {
   "cell_type": "markdown",
   "id": "f5a1642c",
   "metadata": {},
   "source": [
    "The climate data analysis for Portland Airport reveals several important trends in air temperature, precipitation, and groundwater levels between 2004 and 2024. Air temperature data shows a consistent seasonal pattern, with both minimum and maximum temperatures peaking in the summer and dipping in the winter. The analysis highlights the hottest day during this period, June 28, 2021, and the coldest day, January 13, 2017. Precipitation data, on the other hand, indicates that while Portland is known for its rainy weather, more than half (57.5%) of the days had no precipitation, though rain events were frequent and significant. Groundwater level data shows seasonal fluctuations corresponding with precipitation patterns, with the most common groundwater levels ranging from 42 to 44 feet. Overall, the analysis suggests that Portland has seen an increase in hot days and relatively stable groundwater levels, likely reflecting the impact of climate variability and change."
   ]
  },
  {
   "cell_type": "code",
   "execution_count": null,
   "id": "b1a76502",
   "metadata": {},
   "outputs": [],
   "source": []
  }
 ],
 "metadata": {
  "kernelspec": {
   "display_name": "Python 3 (ipykernel)",
   "language": "python",
   "name": "python3"
  },
  "language_info": {
   "codemirror_mode": {
    "name": "ipython",
    "version": 3
   },
   "file_extension": ".py",
   "mimetype": "text/x-python",
   "name": "python",
   "nbconvert_exporter": "python",
   "pygments_lexer": "ipython3",
   "version": "3.9.12"
  }
 },
 "nbformat": 4,
 "nbformat_minor": 5
}
